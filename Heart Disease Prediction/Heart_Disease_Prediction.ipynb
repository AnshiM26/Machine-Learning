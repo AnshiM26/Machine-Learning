{
  "nbformat": 4,
  "nbformat_minor": 0,
  "metadata": {
    "colab": {
      "provenance": [],
      "authorship_tag": "ABX9TyPQ5q+xKTP40qJKo/7W4NF5",
      "include_colab_link": true
    },
    "kernelspec": {
      "name": "python3",
      "display_name": "Python 3"
    },
    "language_info": {
      "name": "python"
    }
  },
  "cells": [
    {
      "cell_type": "markdown",
      "metadata": {
        "id": "view-in-github",
        "colab_type": "text"
      },
      "source": [
        "<a href=\"https://colab.research.google.com/github/AnshiM26/IEEE/blob/main/Heart_Disease_Prediction.ipynb\" target=\"_parent\"><img src=\"https://colab.research.google.com/assets/colab-badge.svg\" alt=\"Open In Colab\"/></a>"
      ]
    },
    {
      "cell_type": "markdown",
      "source": [
        "#Data Preprocessing\n"
      ],
      "metadata": {
        "id": "vb_jOK9xFYhI"
      }
    },
    {
      "cell_type": "markdown",
      "source": [
        "## Importing the dataset"
      ],
      "metadata": {
        "id": "BMS-JKwzoucX"
      }
    },
    {
      "cell_type": "code",
      "source": [
        "import pandas as pd\n",
        "import numpy as np\n",
        "dataset=pd.read_csv('heart_disease_data.csv')\n",
        "dataset.head()"
      ],
      "metadata": {
        "colab": {
          "base_uri": "https://localhost:8080/",
          "height": 206
        },
        "id": "dE3V-04eFeSb",
        "outputId": "a6bde823-9801-49cb-d8f1-79ab5c0dc478"
      },
      "execution_count": 191,
      "outputs": [
        {
          "output_type": "execute_result",
          "data": {
            "text/plain": [
              "   age  sex  cp  trestbps  chol  fbs  restecg  thalach  exang  oldpeak  slope  \\\n",
              "0   63    1   3       145   233    1        0      150      0      2.3      0   \n",
              "1   37    1   2       130   250    0        1      187      0      3.5      0   \n",
              "2   41    0   1       130   204    0        0      172      0      1.4      2   \n",
              "3   56    1   1       120   236    0        1      178      0      0.8      2   \n",
              "4   57    0   0       120   354    0        1      163      1      0.6      2   \n",
              "\n",
              "   ca  thal  target  \n",
              "0   0     1       1  \n",
              "1   0     2       1  \n",
              "2   0     2       1  \n",
              "3   0     2       1  \n",
              "4   0     2       1  "
            ],
            "text/html": [
              "\n",
              "  <div id=\"df-9d32e27c-706c-41ed-8183-157bc0ec2d97\" class=\"colab-df-container\">\n",
              "    <div>\n",
              "<style scoped>\n",
              "    .dataframe tbody tr th:only-of-type {\n",
              "        vertical-align: middle;\n",
              "    }\n",
              "\n",
              "    .dataframe tbody tr th {\n",
              "        vertical-align: top;\n",
              "    }\n",
              "\n",
              "    .dataframe thead th {\n",
              "        text-align: right;\n",
              "    }\n",
              "</style>\n",
              "<table border=\"1\" class=\"dataframe\">\n",
              "  <thead>\n",
              "    <tr style=\"text-align: right;\">\n",
              "      <th></th>\n",
              "      <th>age</th>\n",
              "      <th>sex</th>\n",
              "      <th>cp</th>\n",
              "      <th>trestbps</th>\n",
              "      <th>chol</th>\n",
              "      <th>fbs</th>\n",
              "      <th>restecg</th>\n",
              "      <th>thalach</th>\n",
              "      <th>exang</th>\n",
              "      <th>oldpeak</th>\n",
              "      <th>slope</th>\n",
              "      <th>ca</th>\n",
              "      <th>thal</th>\n",
              "      <th>target</th>\n",
              "    </tr>\n",
              "  </thead>\n",
              "  <tbody>\n",
              "    <tr>\n",
              "      <th>0</th>\n",
              "      <td>63</td>\n",
              "      <td>1</td>\n",
              "      <td>3</td>\n",
              "      <td>145</td>\n",
              "      <td>233</td>\n",
              "      <td>1</td>\n",
              "      <td>0</td>\n",
              "      <td>150</td>\n",
              "      <td>0</td>\n",
              "      <td>2.3</td>\n",
              "      <td>0</td>\n",
              "      <td>0</td>\n",
              "      <td>1</td>\n",
              "      <td>1</td>\n",
              "    </tr>\n",
              "    <tr>\n",
              "      <th>1</th>\n",
              "      <td>37</td>\n",
              "      <td>1</td>\n",
              "      <td>2</td>\n",
              "      <td>130</td>\n",
              "      <td>250</td>\n",
              "      <td>0</td>\n",
              "      <td>1</td>\n",
              "      <td>187</td>\n",
              "      <td>0</td>\n",
              "      <td>3.5</td>\n",
              "      <td>0</td>\n",
              "      <td>0</td>\n",
              "      <td>2</td>\n",
              "      <td>1</td>\n",
              "    </tr>\n",
              "    <tr>\n",
              "      <th>2</th>\n",
              "      <td>41</td>\n",
              "      <td>0</td>\n",
              "      <td>1</td>\n",
              "      <td>130</td>\n",
              "      <td>204</td>\n",
              "      <td>0</td>\n",
              "      <td>0</td>\n",
              "      <td>172</td>\n",
              "      <td>0</td>\n",
              "      <td>1.4</td>\n",
              "      <td>2</td>\n",
              "      <td>0</td>\n",
              "      <td>2</td>\n",
              "      <td>1</td>\n",
              "    </tr>\n",
              "    <tr>\n",
              "      <th>3</th>\n",
              "      <td>56</td>\n",
              "      <td>1</td>\n",
              "      <td>1</td>\n",
              "      <td>120</td>\n",
              "      <td>236</td>\n",
              "      <td>0</td>\n",
              "      <td>1</td>\n",
              "      <td>178</td>\n",
              "      <td>0</td>\n",
              "      <td>0.8</td>\n",
              "      <td>2</td>\n",
              "      <td>0</td>\n",
              "      <td>2</td>\n",
              "      <td>1</td>\n",
              "    </tr>\n",
              "    <tr>\n",
              "      <th>4</th>\n",
              "      <td>57</td>\n",
              "      <td>0</td>\n",
              "      <td>0</td>\n",
              "      <td>120</td>\n",
              "      <td>354</td>\n",
              "      <td>0</td>\n",
              "      <td>1</td>\n",
              "      <td>163</td>\n",
              "      <td>1</td>\n",
              "      <td>0.6</td>\n",
              "      <td>2</td>\n",
              "      <td>0</td>\n",
              "      <td>2</td>\n",
              "      <td>1</td>\n",
              "    </tr>\n",
              "  </tbody>\n",
              "</table>\n",
              "</div>\n",
              "    <div class=\"colab-df-buttons\">\n",
              "\n",
              "  <div class=\"colab-df-container\">\n",
              "    <button class=\"colab-df-convert\" onclick=\"convertToInteractive('df-9d32e27c-706c-41ed-8183-157bc0ec2d97')\"\n",
              "            title=\"Convert this dataframe to an interactive table.\"\n",
              "            style=\"display:none;\">\n",
              "\n",
              "  <svg xmlns=\"http://www.w3.org/2000/svg\" height=\"24px\" viewBox=\"0 -960 960 960\">\n",
              "    <path d=\"M120-120v-720h720v720H120Zm60-500h600v-160H180v160Zm220 220h160v-160H400v160Zm0 220h160v-160H400v160ZM180-400h160v-160H180v160Zm440 0h160v-160H620v160ZM180-180h160v-160H180v160Zm440 0h160v-160H620v160Z\"/>\n",
              "  </svg>\n",
              "    </button>\n",
              "\n",
              "  <style>\n",
              "    .colab-df-container {\n",
              "      display:flex;\n",
              "      gap: 12px;\n",
              "    }\n",
              "\n",
              "    .colab-df-convert {\n",
              "      background-color: #E8F0FE;\n",
              "      border: none;\n",
              "      border-radius: 50%;\n",
              "      cursor: pointer;\n",
              "      display: none;\n",
              "      fill: #1967D2;\n",
              "      height: 32px;\n",
              "      padding: 0 0 0 0;\n",
              "      width: 32px;\n",
              "    }\n",
              "\n",
              "    .colab-df-convert:hover {\n",
              "      background-color: #E2EBFA;\n",
              "      box-shadow: 0px 1px 2px rgba(60, 64, 67, 0.3), 0px 1px 3px 1px rgba(60, 64, 67, 0.15);\n",
              "      fill: #174EA6;\n",
              "    }\n",
              "\n",
              "    .colab-df-buttons div {\n",
              "      margin-bottom: 4px;\n",
              "    }\n",
              "\n",
              "    [theme=dark] .colab-df-convert {\n",
              "      background-color: #3B4455;\n",
              "      fill: #D2E3FC;\n",
              "    }\n",
              "\n",
              "    [theme=dark] .colab-df-convert:hover {\n",
              "      background-color: #434B5C;\n",
              "      box-shadow: 0px 1px 3px 1px rgba(0, 0, 0, 0.15);\n",
              "      filter: drop-shadow(0px 1px 2px rgba(0, 0, 0, 0.3));\n",
              "      fill: #FFFFFF;\n",
              "    }\n",
              "  </style>\n",
              "\n",
              "    <script>\n",
              "      const buttonEl =\n",
              "        document.querySelector('#df-9d32e27c-706c-41ed-8183-157bc0ec2d97 button.colab-df-convert');\n",
              "      buttonEl.style.display =\n",
              "        google.colab.kernel.accessAllowed ? 'block' : 'none';\n",
              "\n",
              "      async function convertToInteractive(key) {\n",
              "        const element = document.querySelector('#df-9d32e27c-706c-41ed-8183-157bc0ec2d97');\n",
              "        const dataTable =\n",
              "          await google.colab.kernel.invokeFunction('convertToInteractive',\n",
              "                                                    [key], {});\n",
              "        if (!dataTable) return;\n",
              "\n",
              "        const docLinkHtml = 'Like what you see? Visit the ' +\n",
              "          '<a target=\"_blank\" href=https://colab.research.google.com/notebooks/data_table.ipynb>data table notebook</a>'\n",
              "          + ' to learn more about interactive tables.';\n",
              "        element.innerHTML = '';\n",
              "        dataTable['output_type'] = 'display_data';\n",
              "        await google.colab.output.renderOutput(dataTable, element);\n",
              "        const docLink = document.createElement('div');\n",
              "        docLink.innerHTML = docLinkHtml;\n",
              "        element.appendChild(docLink);\n",
              "      }\n",
              "    </script>\n",
              "  </div>\n",
              "\n",
              "\n",
              "<div id=\"df-1a59ca17-1afa-44f5-a403-4d601b1ef3bf\">\n",
              "  <button class=\"colab-df-quickchart\" onclick=\"quickchart('df-1a59ca17-1afa-44f5-a403-4d601b1ef3bf')\"\n",
              "            title=\"Suggest charts\"\n",
              "            style=\"display:none;\">\n",
              "\n",
              "<svg xmlns=\"http://www.w3.org/2000/svg\" height=\"24px\"viewBox=\"0 0 24 24\"\n",
              "     width=\"24px\">\n",
              "    <g>\n",
              "        <path d=\"M19 3H5c-1.1 0-2 .9-2 2v14c0 1.1.9 2 2 2h14c1.1 0 2-.9 2-2V5c0-1.1-.9-2-2-2zM9 17H7v-7h2v7zm4 0h-2V7h2v10zm4 0h-2v-4h2v4z\"/>\n",
              "    </g>\n",
              "</svg>\n",
              "  </button>\n",
              "\n",
              "<style>\n",
              "  .colab-df-quickchart {\n",
              "      --bg-color: #E8F0FE;\n",
              "      --fill-color: #1967D2;\n",
              "      --hover-bg-color: #E2EBFA;\n",
              "      --hover-fill-color: #174EA6;\n",
              "      --disabled-fill-color: #AAA;\n",
              "      --disabled-bg-color: #DDD;\n",
              "  }\n",
              "\n",
              "  [theme=dark] .colab-df-quickchart {\n",
              "      --bg-color: #3B4455;\n",
              "      --fill-color: #D2E3FC;\n",
              "      --hover-bg-color: #434B5C;\n",
              "      --hover-fill-color: #FFFFFF;\n",
              "      --disabled-bg-color: #3B4455;\n",
              "      --disabled-fill-color: #666;\n",
              "  }\n",
              "\n",
              "  .colab-df-quickchart {\n",
              "    background-color: var(--bg-color);\n",
              "    border: none;\n",
              "    border-radius: 50%;\n",
              "    cursor: pointer;\n",
              "    display: none;\n",
              "    fill: var(--fill-color);\n",
              "    height: 32px;\n",
              "    padding: 0;\n",
              "    width: 32px;\n",
              "  }\n",
              "\n",
              "  .colab-df-quickchart:hover {\n",
              "    background-color: var(--hover-bg-color);\n",
              "    box-shadow: 0 1px 2px rgba(60, 64, 67, 0.3), 0 1px 3px 1px rgba(60, 64, 67, 0.15);\n",
              "    fill: var(--button-hover-fill-color);\n",
              "  }\n",
              "\n",
              "  .colab-df-quickchart-complete:disabled,\n",
              "  .colab-df-quickchart-complete:disabled:hover {\n",
              "    background-color: var(--disabled-bg-color);\n",
              "    fill: var(--disabled-fill-color);\n",
              "    box-shadow: none;\n",
              "  }\n",
              "\n",
              "  .colab-df-spinner {\n",
              "    border: 2px solid var(--fill-color);\n",
              "    border-color: transparent;\n",
              "    border-bottom-color: var(--fill-color);\n",
              "    animation:\n",
              "      spin 1s steps(1) infinite;\n",
              "  }\n",
              "\n",
              "  @keyframes spin {\n",
              "    0% {\n",
              "      border-color: transparent;\n",
              "      border-bottom-color: var(--fill-color);\n",
              "      border-left-color: var(--fill-color);\n",
              "    }\n",
              "    20% {\n",
              "      border-color: transparent;\n",
              "      border-left-color: var(--fill-color);\n",
              "      border-top-color: var(--fill-color);\n",
              "    }\n",
              "    30% {\n",
              "      border-color: transparent;\n",
              "      border-left-color: var(--fill-color);\n",
              "      border-top-color: var(--fill-color);\n",
              "      border-right-color: var(--fill-color);\n",
              "    }\n",
              "    40% {\n",
              "      border-color: transparent;\n",
              "      border-right-color: var(--fill-color);\n",
              "      border-top-color: var(--fill-color);\n",
              "    }\n",
              "    60% {\n",
              "      border-color: transparent;\n",
              "      border-right-color: var(--fill-color);\n",
              "    }\n",
              "    80% {\n",
              "      border-color: transparent;\n",
              "      border-right-color: var(--fill-color);\n",
              "      border-bottom-color: var(--fill-color);\n",
              "    }\n",
              "    90% {\n",
              "      border-color: transparent;\n",
              "      border-bottom-color: var(--fill-color);\n",
              "    }\n",
              "  }\n",
              "</style>\n",
              "\n",
              "  <script>\n",
              "    async function quickchart(key) {\n",
              "      const quickchartButtonEl =\n",
              "        document.querySelector('#' + key + ' button');\n",
              "      quickchartButtonEl.disabled = true;  // To prevent multiple clicks.\n",
              "      quickchartButtonEl.classList.add('colab-df-spinner');\n",
              "      try {\n",
              "        const charts = await google.colab.kernel.invokeFunction(\n",
              "            'suggestCharts', [key], {});\n",
              "      } catch (error) {\n",
              "        console.error('Error during call to suggestCharts:', error);\n",
              "      }\n",
              "      quickchartButtonEl.classList.remove('colab-df-spinner');\n",
              "      quickchartButtonEl.classList.add('colab-df-quickchart-complete');\n",
              "    }\n",
              "    (() => {\n",
              "      let quickchartButtonEl =\n",
              "        document.querySelector('#df-1a59ca17-1afa-44f5-a403-4d601b1ef3bf button');\n",
              "      quickchartButtonEl.style.display =\n",
              "        google.colab.kernel.accessAllowed ? 'block' : 'none';\n",
              "    })();\n",
              "  </script>\n",
              "</div>\n",
              "\n",
              "    </div>\n",
              "  </div>\n"
            ],
            "application/vnd.google.colaboratory.intrinsic+json": {
              "type": "dataframe",
              "variable_name": "dataset",
              "summary": "{\n  \"name\": \"dataset\",\n  \"rows\": 303,\n  \"fields\": [\n    {\n      \"column\": \"age\",\n      \"properties\": {\n        \"dtype\": \"number\",\n        \"std\": 9,\n        \"min\": 29,\n        \"max\": 77,\n        \"num_unique_values\": 41,\n        \"samples\": [\n          46,\n          66,\n          48\n        ],\n        \"semantic_type\": \"\",\n        \"description\": \"\"\n      }\n    },\n    {\n      \"column\": \"sex\",\n      \"properties\": {\n        \"dtype\": \"number\",\n        \"std\": 0,\n        \"min\": 0,\n        \"max\": 1,\n        \"num_unique_values\": 2,\n        \"samples\": [\n          0,\n          1\n        ],\n        \"semantic_type\": \"\",\n        \"description\": \"\"\n      }\n    },\n    {\n      \"column\": \"cp\",\n      \"properties\": {\n        \"dtype\": \"number\",\n        \"std\": 1,\n        \"min\": 0,\n        \"max\": 3,\n        \"num_unique_values\": 4,\n        \"samples\": [\n          2,\n          0\n        ],\n        \"semantic_type\": \"\",\n        \"description\": \"\"\n      }\n    },\n    {\n      \"column\": \"trestbps\",\n      \"properties\": {\n        \"dtype\": \"number\",\n        \"std\": 17,\n        \"min\": 94,\n        \"max\": 200,\n        \"num_unique_values\": 49,\n        \"samples\": [\n          104,\n          123\n        ],\n        \"semantic_type\": \"\",\n        \"description\": \"\"\n      }\n    },\n    {\n      \"column\": \"chol\",\n      \"properties\": {\n        \"dtype\": \"number\",\n        \"std\": 51,\n        \"min\": 126,\n        \"max\": 564,\n        \"num_unique_values\": 152,\n        \"samples\": [\n          277,\n          169\n        ],\n        \"semantic_type\": \"\",\n        \"description\": \"\"\n      }\n    },\n    {\n      \"column\": \"fbs\",\n      \"properties\": {\n        \"dtype\": \"number\",\n        \"std\": 0,\n        \"min\": 0,\n        \"max\": 1,\n        \"num_unique_values\": 2,\n        \"samples\": [\n          0,\n          1\n        ],\n        \"semantic_type\": \"\",\n        \"description\": \"\"\n      }\n    },\n    {\n      \"column\": \"restecg\",\n      \"properties\": {\n        \"dtype\": \"number\",\n        \"std\": 0,\n        \"min\": 0,\n        \"max\": 2,\n        \"num_unique_values\": 3,\n        \"samples\": [\n          0,\n          1\n        ],\n        \"semantic_type\": \"\",\n        \"description\": \"\"\n      }\n    },\n    {\n      \"column\": \"thalach\",\n      \"properties\": {\n        \"dtype\": \"number\",\n        \"std\": 22,\n        \"min\": 71,\n        \"max\": 202,\n        \"num_unique_values\": 91,\n        \"samples\": [\n          159,\n          152\n        ],\n        \"semantic_type\": \"\",\n        \"description\": \"\"\n      }\n    },\n    {\n      \"column\": \"exang\",\n      \"properties\": {\n        \"dtype\": \"number\",\n        \"std\": 0,\n        \"min\": 0,\n        \"max\": 1,\n        \"num_unique_values\": 2,\n        \"samples\": [\n          1,\n          0\n        ],\n        \"semantic_type\": \"\",\n        \"description\": \"\"\n      }\n    },\n    {\n      \"column\": \"oldpeak\",\n      \"properties\": {\n        \"dtype\": \"number\",\n        \"std\": 1.1610750220686348,\n        \"min\": 0.0,\n        \"max\": 6.2,\n        \"num_unique_values\": 40,\n        \"samples\": [\n          1.9,\n          3.0\n        ],\n        \"semantic_type\": \"\",\n        \"description\": \"\"\n      }\n    },\n    {\n      \"column\": \"slope\",\n      \"properties\": {\n        \"dtype\": \"number\",\n        \"std\": 0,\n        \"min\": 0,\n        \"max\": 2,\n        \"num_unique_values\": 3,\n        \"samples\": [\n          0,\n          2\n        ],\n        \"semantic_type\": \"\",\n        \"description\": \"\"\n      }\n    },\n    {\n      \"column\": \"ca\",\n      \"properties\": {\n        \"dtype\": \"number\",\n        \"std\": 1,\n        \"min\": 0,\n        \"max\": 4,\n        \"num_unique_values\": 5,\n        \"samples\": [\n          2,\n          4\n        ],\n        \"semantic_type\": \"\",\n        \"description\": \"\"\n      }\n    },\n    {\n      \"column\": \"thal\",\n      \"properties\": {\n        \"dtype\": \"number\",\n        \"std\": 0,\n        \"min\": 0,\n        \"max\": 3,\n        \"num_unique_values\": 4,\n        \"samples\": [\n          2,\n          0\n        ],\n        \"semantic_type\": \"\",\n        \"description\": \"\"\n      }\n    },\n    {\n      \"column\": \"target\",\n      \"properties\": {\n        \"dtype\": \"number\",\n        \"std\": 0,\n        \"min\": 0,\n        \"max\": 1,\n        \"num_unique_values\": 2,\n        \"samples\": [\n          0,\n          1\n        ],\n        \"semantic_type\": \"\",\n        \"description\": \"\"\n      }\n    }\n  ]\n}"
            }
          },
          "metadata": {},
          "execution_count": 191
        }
      ]
    },
    {
      "cell_type": "code",
      "source": [
        "dataset.info()"
      ],
      "metadata": {
        "colab": {
          "base_uri": "https://localhost:8080/"
        },
        "id": "Q98zrtibJ2-f",
        "outputId": "01f66a0b-6c98-4e8e-8ed5-6e2873a2742b"
      },
      "execution_count": 192,
      "outputs": [
        {
          "output_type": "stream",
          "name": "stdout",
          "text": [
            "<class 'pandas.core.frame.DataFrame'>\n",
            "RangeIndex: 303 entries, 0 to 302\n",
            "Data columns (total 14 columns):\n",
            " #   Column    Non-Null Count  Dtype  \n",
            "---  ------    --------------  -----  \n",
            " 0   age       303 non-null    int64  \n",
            " 1   sex       303 non-null    int64  \n",
            " 2   cp        303 non-null    int64  \n",
            " 3   trestbps  303 non-null    int64  \n",
            " 4   chol      303 non-null    int64  \n",
            " 5   fbs       303 non-null    int64  \n",
            " 6   restecg   303 non-null    int64  \n",
            " 7   thalach   303 non-null    int64  \n",
            " 8   exang     303 non-null    int64  \n",
            " 9   oldpeak   303 non-null    float64\n",
            " 10  slope     303 non-null    int64  \n",
            " 11  ca        303 non-null    int64  \n",
            " 12  thal      303 non-null    int64  \n",
            " 13  target    303 non-null    int64  \n",
            "dtypes: float64(1), int64(13)\n",
            "memory usage: 33.3 KB\n"
          ]
        }
      ]
    },
    {
      "cell_type": "code",
      "source": [
        "print(dataset.columns)"
      ],
      "metadata": {
        "colab": {
          "base_uri": "https://localhost:8080/"
        },
        "id": "PzUQWhELOFD8",
        "outputId": "82bb1409-d3fe-4e19-8984-b79b04e1234e"
      },
      "execution_count": 193,
      "outputs": [
        {
          "output_type": "stream",
          "name": "stdout",
          "text": [
            "Index(['age', 'sex', 'cp', 'trestbps', 'chol', 'fbs', 'restecg', 'thalach',\n",
            "       'exang', 'oldpeak', 'slope', 'ca', 'thal', 'target'],\n",
            "      dtype='object')\n"
          ]
        }
      ]
    },
    {
      "cell_type": "markdown",
      "source": [
        "## Dependent and independent feaures\n"
      ],
      "metadata": {
        "id": "rPmCgK4RZzOL"
      }
    },
    {
      "cell_type": "code",
      "source": [
        "X=np.array(dataset.drop(columns=['target'])) #independent features\n",
        "y=np.array(dataset['target'])  #dependent feature - target"
      ],
      "metadata": {
        "id": "3SAl2IL3Zqzm"
      },
      "execution_count": 194,
      "outputs": []
    },
    {
      "cell_type": "code",
      "source": [
        "print(X)"
      ],
      "metadata": {
        "colab": {
          "base_uri": "https://localhost:8080/"
        },
        "id": "aeg3WOZMgeac",
        "outputId": "5d9c6730-5112-4c66-8808-779c72ba7977"
      },
      "execution_count": 195,
      "outputs": [
        {
          "output_type": "stream",
          "name": "stdout",
          "text": [
            "[[63.  1.  3. ...  0.  0.  1.]\n",
            " [37.  1.  2. ...  0.  0.  2.]\n",
            " [41.  0.  1. ...  2.  0.  2.]\n",
            " ...\n",
            " [68.  1.  0. ...  1.  2.  3.]\n",
            " [57.  1.  0. ...  1.  1.  3.]\n",
            " [57.  0.  1. ...  1.  1.  2.]]\n"
          ]
        }
      ]
    },
    {
      "cell_type": "code",
      "source": [
        "print(y)"
      ],
      "metadata": {
        "colab": {
          "base_uri": "https://localhost:8080/"
        },
        "id": "wR_HBp0Igfce",
        "outputId": "b012a5e5-f999-4187-a6f5-6ec0eb962d4f"
      },
      "execution_count": 196,
      "outputs": [
        {
          "output_type": "stream",
          "name": "stdout",
          "text": [
            "[1 1 1 1 1 1 1 1 1 1 1 1 1 1 1 1 1 1 1 1 1 1 1 1 1 1 1 1 1 1 1 1 1 1 1 1 1\n",
            " 1 1 1 1 1 1 1 1 1 1 1 1 1 1 1 1 1 1 1 1 1 1 1 1 1 1 1 1 1 1 1 1 1 1 1 1 1\n",
            " 1 1 1 1 1 1 1 1 1 1 1 1 1 1 1 1 1 1 1 1 1 1 1 1 1 1 1 1 1 1 1 1 1 1 1 1 1\n",
            " 1 1 1 1 1 1 1 1 1 1 1 1 1 1 1 1 1 1 1 1 1 1 1 1 1 1 1 1 1 1 1 1 1 1 1 1 1\n",
            " 1 1 1 1 1 1 1 1 1 1 1 1 1 1 1 1 1 0 0 0 0 0 0 0 0 0 0 0 0 0 0 0 0 0 0 0 0\n",
            " 0 0 0 0 0 0 0 0 0 0 0 0 0 0 0 0 0 0 0 0 0 0 0 0 0 0 0 0 0 0 0 0 0 0 0 0 0\n",
            " 0 0 0 0 0 0 0 0 0 0 0 0 0 0 0 0 0 0 0 0 0 0 0 0 0 0 0 0 0 0 0 0 0 0 0 0 0\n",
            " 0 0 0 0 0 0 0 0 0 0 0 0 0 0 0 0 0 0 0 0 0 0 0 0 0 0 0 0 0 0 0 0 0 0 0 0 0\n",
            " 0 0 0 0 0 0 0]\n"
          ]
        }
      ]
    },
    {
      "cell_type": "markdown",
      "source": [
        "##Splitting into Training set and Test set"
      ],
      "metadata": {
        "id": "xuJMqqsSXO_u"
      }
    },
    {
      "cell_type": "code",
      "source": [
        "from sklearn.model_selection import train_test_split\n",
        "X_train, X_test, y_train, y_test = train_test_split(X, y, test_size = 0.2, random_state = 42)"
      ],
      "metadata": {
        "id": "M_HHix6lXVk0"
      },
      "execution_count": 197,
      "outputs": []
    },
    {
      "cell_type": "code",
      "source": [
        "print(\"Number of rows and columns in X_train:\", X_train.shape)\n",
        "print(\"Number of rows and columns in X_test:\", X_test.shape)\n",
        "print(\"Number of rows and columns in y_train:\", y_train.shape)\n",
        "print(\"Number of rows and columns in y_test:\", y_test.shape)"
      ],
      "metadata": {
        "colab": {
          "base_uri": "https://localhost:8080/"
        },
        "id": "AAPZGjiOjI1I",
        "outputId": "402771d4-81ae-4f7a-ae6e-9ec47c538f64"
      },
      "execution_count": 198,
      "outputs": [
        {
          "output_type": "stream",
          "name": "stdout",
          "text": [
            "Number of rows and columns in X_train: (242, 13)\n",
            "Number of rows and columns in X_test: (61, 13)\n",
            "Number of rows and columns in y_train: (242,)\n",
            "Number of rows and columns in y_test: (61,)\n"
          ]
        }
      ]
    },
    {
      "cell_type": "markdown",
      "source": [
        "# Feature Scaling\n"
      ],
      "metadata": {
        "id": "UinGfF1LjwoQ"
      }
    },
    {
      "cell_type": "code",
      "source": [
        "from sklearn.preprocessing import StandardScaler\n",
        "sc = StandardScaler()\n",
        "X_train = sc.fit_transform(X_train)\n",
        "X_test = sc.transform(X_test)"
      ],
      "metadata": {
        "id": "ICXKMnN6jyyI"
      },
      "execution_count": 199,
      "outputs": []
    },
    {
      "cell_type": "code",
      "source": [
        "print(X_train)"
      ],
      "metadata": {
        "colab": {
          "base_uri": "https://localhost:8080/"
        },
        "id": "-NeAaSK9j1f4",
        "outputId": "3f9079e4-c11c-474f-89b9-87099de977ec"
      },
      "execution_count": 200,
      "outputs": [
        {
          "output_type": "stream",
          "name": "stdout",
          "text": [
            "[[-1.35679832  0.72250438  0.00809909 ...  0.95390513 -0.68970073\n",
            "  -0.50904773]\n",
            " [ 0.38508599  0.72250438 -0.97189094 ...  0.95390513 -0.68970073\n",
            "   1.17848036]\n",
            " [-0.92132724  0.72250438  0.98808912 ... -0.69498803 -0.68970073\n",
            "  -0.50904773]\n",
            " ...\n",
            " [ 1.58263146  0.72250438  1.96807914 ... -0.69498803  0.32186034\n",
            "  -0.50904773]\n",
            " [-0.92132724  0.72250438 -0.97189094 ...  0.95390513 -0.68970073\n",
            "   1.17848036]\n",
            " [ 0.92942484 -1.38407465  0.00809909 ...  0.95390513  1.33342142\n",
            "  -0.50904773]]\n"
          ]
        }
      ]
    },
    {
      "cell_type": "code",
      "source": [
        "print(X_test)"
      ],
      "metadata": {
        "colab": {
          "base_uri": "https://localhost:8080/"
        },
        "id": "uVhevi8lj3tG",
        "outputId": "e79031eb-9c60-4cc1-87fc-7418552b3955"
      },
      "execution_count": 201,
      "outputs": [
        {
          "output_type": "stream",
          "name": "stdout",
          "text": [
            "[[ 2.76218225e-01  7.22504380e-01 -9.71890936e-01  1.16949120e+00\n",
            "   5.53408401e-01 -3.83300706e-01 -1.04610909e+00 -1.70875171e+00\n",
            "   1.47790748e+00 -3.75556294e-01 -6.94988026e-01  3.21860343e-01\n",
            "  -2.19657581e+00]\n",
            " [ 4.93953764e-01  7.22504380e-01  1.96807914e+00  2.36038903e+00\n",
            "   7.81171723e-01 -3.83300706e-01 -1.04610909e+00  3.98288831e-01\n",
            "  -6.76632341e-01 -7.39094787e-01 -6.94988026e-01 -6.89700735e-01\n",
            "   1.17848036e+00]\n",
            " [ 2.76218225e-01  7.22504380e-01  9.88089118e-01  1.16949120e+00\n",
            "  -2.29363312e+00  2.60891771e+00  8.43132697e-01  1.02591793e+00\n",
            "  -6.76632341e-01 -7.39094787e-01  9.53905134e-01  3.21860343e-01\n",
            "   1.17848036e+00]\n",
            " [ 1.67350456e-01 -1.38407465e+00 -9.71890936e-01  2.16772932e-01\n",
            "   3.07778522e+00 -3.83300706e-01 -1.04610909e+00 -5.18701733e-03\n",
            "   1.47790748e+00  8.05943807e-01 -6.94988026e-01  1.33342142e+00\n",
            "   1.17848036e+00]\n",
            " [ 1.80036700e+00 -1.38407465e+00  9.88089118e-01 -1.21230447e+00\n",
            "   3.44625356e-01  2.60891771e+00 -1.04610909e+00 -9.01800013e-01\n",
            "  -6.76632341e-01 -9.20864033e-01  9.53905134e-01  3.21860343e-01\n",
            "  -5.09047728e-01]\n",
            " [ 2.76218225e-01  7.22504380e-01  9.88089118e-01  1.16949120e+00\n",
            "  -1.49646149e+00 -3.83300706e-01  8.43132697e-01  1.07074858e+00\n",
            "  -6.76632341e-01  5.33289937e-01  9.53905134e-01 -6.89700735e-01\n",
            "  -5.09047728e-01]\n",
            " [-9.21327240e-01 -1.38407465e+00 -9.71890936e-01  4.54952499e-01\n",
            "  -7.29407332e-02 -3.83300706e-01 -1.04610909e+00  8.44742822e-02\n",
            "   1.47790748e+00 -9.20864033e-01 -6.94988026e-01 -6.89700735e-01\n",
            "  -5.09047728e-01]\n",
            " [ 1.67350456e-01 -1.38407465e+00 -9.71890936e-01  4.14673578e+00\n",
            "   7.81171723e-01  2.60891771e+00 -1.04610909e+00 -7.67308064e-01\n",
            "   1.47790748e+00  2.71452089e+00 -2.34388119e+00  1.33342142e+00\n",
            "   1.17848036e+00]\n",
            " [-5.03850834e-02  7.22504380e-01 -9.71890936e-01 -4.97765768e-01\n",
            "   7.43211169e-01 -3.83300706e-01 -1.04610909e+00 -1.52942911e+00\n",
            "   1.47790748e+00  1.98744391e+00 -6.94988026e-01  1.33342142e+00\n",
            "  -5.09047728e-01]\n",
            " [-5.03850834e-02  7.22504380e-01  9.88089118e-01 -3.19131093e-01\n",
            "   4.96467571e-01 -3.83300706e-01 -1.04610909e+00  8.44742822e-02\n",
            "  -6.76632341e-01 -4.66440917e-01 -2.34388119e+00  3.21860343e-01\n",
            "  -5.09047728e-01]\n",
            " [ 2.76218225e-01  7.22504380e-01 -9.71890936e-01  5.74042282e-01\n",
            "  -1.04093485e+00 -3.83300706e-01  8.43132697e-01 -9.48483169e-02\n",
            "  -6.76632341e-01 -5.57325540e-01 -6.94988026e-01 -6.89700735e-01\n",
            "  -2.19657581e+00]\n",
            " [ 4.93953764e-01  7.22504380e-01  1.96807914e+00  2.83674817e+00\n",
            "   4.39526740e-01 -3.83300706e-01 -1.04610909e+00 -2.29340266e-01\n",
            "  -6.76632341e-01  2.89629014e+00 -2.34388119e+00 -6.89700735e-01\n",
            "   1.17848036e+00]\n",
            " [-2.68120623e-01  7.22504380e-01  8.09909113e-03 -6.16855552e-01\n",
            "   1.48344196e+00 -3.83300706e-01  8.43132697e-01  9.81087278e-01\n",
            "  -6.76632341e-01 -7.39094787e-01  9.53905134e-01 -6.89700735e-01\n",
            "  -5.09047728e-01]\n",
            " [-1.57453386e+00  7.22504380e-01 -9.71890936e-01 -1.21230447e+00\n",
            "  -1.51544177e+00 -3.83300706e-01 -1.04610909e+00 -1.61909041e+00\n",
            "   1.47790748e+00  8.96828430e-01 -6.94988026e-01 -6.89700735e-01\n",
            "   1.17848036e+00]\n",
            " [-9.21327240e-01 -1.38407465e+00  8.09909113e-03 -1.51002893e+00\n",
            "  -8.13171528e-01 -3.83300706e-01  8.43132697e-01  9.81087278e-01\n",
            "  -6.76632341e-01 -9.20864033e-01  9.53905134e-01 -6.89700735e-01\n",
            "  -5.09047728e-01]\n",
            " [-1.13906278e+00  7.22504380e-01  9.88089118e-01  5.74042282e-01\n",
            "  -2.24782948e-01 -3.83300706e-01 -1.04610909e+00  1.33973248e+00\n",
            "  -6.76632341e-01 -9.20864033e-01  9.53905134e-01 -6.89700735e-01\n",
            "  -5.09047728e-01]\n",
            " [-2.22774047e+00 -1.38407465e+00  8.09909113e-03 -7.35945335e-01\n",
            "  -6.99289868e-01 -3.83300706e-01  8.43132697e-01  1.87770027e+00\n",
            "  -6.76632341e-01 -2.84671671e-01  9.53905134e-01 -6.89700735e-01\n",
            "  -5.09047728e-01]\n",
            " [-5.03850834e-02  7.22504380e-01 -9.71890936e-01 -6.16855552e-01\n",
            "  -1.11685596e+00 -3.83300706e-01  8.43132697e-01 -1.66392106e+00\n",
            "  -6.76632341e-01  3.51520691e-01 -6.94988026e-01  3.21860343e-01\n",
            "   1.17848036e+00]\n",
            " [-9.21327240e-01  7.22504380e-01 -9.71890936e-01  5.74042282e-01\n",
            "   1.21771809e+00 -3.83300706e-01  8.43132697e-01 -1.35010651e+00\n",
            "   1.47790748e+00  7.15059184e-01 -6.94988026e-01  1.33342142e+00\n",
            "   1.17848036e+00]\n",
            " [ 7.11689304e-01  7.22504380e-01 -9.71890936e-01  4.54952499e-01\n",
            "  -1.53442205e+00 -3.83300706e-01 -1.04610909e+00 -1.12595326e+00\n",
            "   1.47790748e+00  2.35098240e+00 -6.94988026e-01  3.21860343e-01\n",
            "  -5.09047728e-01]\n",
            " [ 1.03829261e+00  7.22504380e-01  1.96807914e+00  2.36038903e+00\n",
            "  -3.76625162e-01 -3.83300706e-01 -1.04610909e+00  2.18966232e-01\n",
            "  -6.76632341e-01 -3.75556294e-01 -6.94988026e-01 -6.89700735e-01\n",
            "   1.17848036e+00]\n",
            " [ 1.67350456e-01  7.22504380e-01 -9.71890936e-01 -2.14066346e-02\n",
            "   6.86270339e-01  2.60891771e+00 -1.04610909e+00 -2.11222756e+00\n",
            "   1.47790748e+00  5.33289937e-01 -2.34388119e+00 -6.89700735e-01\n",
            "   1.17848036e+00]\n",
            " [ 1.36489592e+00  7.22504380e-01 -9.71890936e-01 -6.16855552e-01\n",
            "  -1.86822394e-01 -3.83300706e-01  8.43132697e-01 -3.54680835e+00\n",
            "  -6.76632341e-01 -1.20178014e-02 -6.94988026e-01 -6.89700735e-01\n",
            "  -5.09047728e-01]\n",
            " [ 1.80036700e+00 -1.38407465e+00  8.09909113e-03  1.76494012e+00\n",
            "   1.04689560e+00 -3.83300706e-01  8.43132697e-01  5.32780780e-01\n",
            "  -6.76632341e-01 -5.57325540e-01  9.53905134e-01  1.33342142e+00\n",
            "  -5.09047728e-01]\n",
            " [-1.13906278e+00 -1.38407465e+00  9.88089118e-01 -7.35945335e-01\n",
            "  -9.19210100e-02 -3.83300706e-01  8.43132697e-01 -5.00176671e-02\n",
            "  -6.76632341e-01 -6.48210163e-01 -6.94988026e-01  3.21860343e-01\n",
            "  -5.09047728e-01]\n",
            " [-1.57453386e+00  7.22504380e-01 -9.71890936e-01  1.28858098e+00\n",
            "  -4.52546269e-01 -3.83300706e-01  8.43132697e-01  1.38456313e+00\n",
            "  -6.76632341e-01 -9.20864033e-01  9.53905134e-01 -6.89700735e-01\n",
            "   1.17848036e+00]\n",
            " [ 4.93953764e-01  7.22504380e-01  1.96807914e+00  1.76494012e+00\n",
            "   4.96467571e-01 -3.83300706e-01 -1.04610909e+00 -1.12595326e+00\n",
            "  -6.76632341e-01 -9.20864033e-01  9.53905134e-01 -6.89700735e-01\n",
            "  -5.09047728e-01]\n",
            " [-3.76988392e-01  7.22504380e-01 -9.71890936e-01  5.74042282e-01\n",
            "   2.68704249e-01 -3.83300706e-01 -1.04610909e+00  1.60871637e+00\n",
            "   1.47790748e+00 -9.20864033e-01  9.53905134e-01 -6.89700735e-01\n",
            "  -5.09047728e-01]\n",
            " [ 2.76218225e-01  7.22504380e-01 -9.71890936e-01  2.06266458e+00\n",
            "   8.00152000e-01  2.60891771e+00 -1.04610909e+00 -1.17078391e+00\n",
            "  -6.76632341e-01 -1.20178014e-02 -6.94988026e-01  2.34498250e+00\n",
            "   1.17848036e+00]\n",
            " [-4.85856162e-01 -1.38407465e+00 -9.71890936e-01 -1.21230447e+00\n",
            "   1.35842312e-01 -3.83300706e-01 -1.04610909e+00  3.98288831e-01\n",
            "  -6.76632341e-01 -9.20864033e-01  9.53905134e-01 -6.89700735e-01\n",
            "  -5.09047728e-01]\n",
            " [ 1.03829261e+00  7.22504380e-01 -9.71890936e-01 -1.40496418e-01\n",
            "   3.06664803e-01 -3.83300706e-01  8.43132697e-01 -2.02256626e+00\n",
            "   1.47790748e+00 -7.39094787e-01 -6.94988026e-01  3.21860343e-01\n",
            "   1.17848036e+00]\n",
            " [ 7.11689304e-01  7.22504380e-01 -9.71890936e-01  5.74042282e-01\n",
            "  -7.56230698e-01 -3.83300706e-01 -1.04610909e+00 -5.43154815e-01\n",
            "   1.47790748e+00  8.05943807e-01  9.53905134e-01  3.21860343e-01\n",
            "   1.17848036e+00]\n",
            " [ 8.20557073e-01  7.22504380e-01 -9.71890936e-01 -6.16855552e-01\n",
            "   3.82585910e-01 -3.83300706e-01  8.43132697e-01 -2.29155016e+00\n",
            "   1.47790748e+00  7.15059184e-01 -6.94988026e-01  1.33342142e+00\n",
            "   1.17848036e+00]\n",
            " [-1.03019501e+00  7.22504380e-01 -9.71890936e-01 -1.56957382e+00\n",
            "  -7.37250421e-01 -3.83300706e-01 -1.04610909e+00 -9.48483169e-02\n",
            "   1.47790748e+00  1.80567466e+00 -6.94988026e-01 -6.89700735e-01\n",
            "  -5.09047728e-01]\n",
            " [ 1.25602815e+00 -1.38407465e+00  1.96807914e+00  1.16949120e+00\n",
            "  -3.95605439e-01 -3.83300706e-01  8.43132697e-01 -1.61909041e+00\n",
            "  -6.76632341e-01  1.44213617e+00 -2.34388119e+00 -6.89700735e-01\n",
            "  -5.09047728e-01]\n",
            " [ 9.29424843e-01  7.22504380e-01 -9.71890936e-01 -2.14066346e-02\n",
            "   1.35842312e-01 -3.83300706e-01 -1.04610909e+00 -1.39678967e-01\n",
            "  -6.76632341e-01  3.51520691e-01 -6.94988026e-01  3.21860343e-01\n",
            "   1.17848036e+00]\n",
            " [-3.76988392e-01  7.22504380e-01  9.88089118e-01 -3.19131093e-01\n",
            "  -3.49801796e-02  2.60891771e+00 -1.04610909e+00  7.12103379e-01\n",
            "  -6.76632341e-01  1.26036692e+00 -6.94988026e-01 -6.89700735e-01\n",
            "  -5.09047728e-01]\n",
            " [-7.03591701e-01  7.22504380e-01  9.88089118e-01 -3.78675985e-01\n",
            "   1.54822588e-01  2.60891771e+00  8.43132697e-01  1.11557923e+00\n",
            "  -6.76632341e-01 -9.20864033e-01  9.53905134e-01  1.33342142e+00\n",
            "  -5.09047728e-01]\n",
            " [-1.57453386e+00  7.22504380e-01  1.96807914e+00  5.74042282e-01\n",
            "  -9.08072912e-01 -3.83300706e-01  8.43132697e-01  1.25007118e+00\n",
            "   1.47790748e+00  3.51520691e-01  9.53905134e-01 -6.89700735e-01\n",
            "   1.17848036e+00]\n",
            " [-1.03019501e+00  7.22504380e-01 -9.71890936e-01 -9.14580010e-01\n",
            "   2.49723972e-01 -3.83300706e-01 -1.04610909e+00  1.56388572e+00\n",
            "  -6.76632341e-01 -9.20864033e-01  9.53905134e-01 -6.89700735e-01\n",
            "  -5.09047728e-01]\n",
            " [-2.68120623e-01  7.22504380e-01  9.88089118e-01  4.54952499e-01\n",
            "  -4.52546269e-01 -3.83300706e-01  8.43132697e-01  8.46595328e-01\n",
            "  -6.76632341e-01 -9.20864033e-01  9.53905134e-01  3.35654358e+00\n",
            "  -5.09047728e-01]\n",
            " [ 4.93953764e-01  7.22504380e-01  8.09909113e-03  5.74042282e-01\n",
            "  -4.90506823e-01 -3.83300706e-01  8.43132697e-01  6.22442080e-01\n",
            "   1.47790748e+00 -9.20864033e-01  9.53905134e-01 -6.89700735e-01\n",
            "  -5.09047728e-01]\n",
            " [ 8.20557073e-01  7.22504380e-01  8.09909113e-03 -1.40496418e-01\n",
            "  -7.37250421e-01  2.60891771e+00 -1.04610909e+00 -4.53493515e-01\n",
            "  -6.76632341e-01 -9.20864033e-01  9.53905134e-01 -6.89700735e-01\n",
            "  -5.09047728e-01]\n",
            " [-1.46566609e+00  7.22504380e-01  9.88089118e-01 -2.14066346e-02\n",
            "  -6.23368760e-01 -3.83300706e-01 -1.04610909e+00  8.01764679e-01\n",
            "  -6.76632341e-01  8.96828430e-01 -6.94988026e-01 -6.89700735e-01\n",
            "  -5.09047728e-01]\n",
            " [-1.13906278e+00  7.22504380e-01  8.09909113e-03 -6.16855552e-01\n",
            "   3.06664803e-01 -3.83300706e-01  8.43132697e-01  1.02591793e+00\n",
            "  -6.76632341e-01 -9.20864033e-01  9.53905134e-01 -6.89700735e-01\n",
            "   1.17848036e+00]\n",
            " [-1.24793055e+00  7.22504380e-01 -9.71890936e-01  9.76831488e-02\n",
            "   2.98037404e-03  2.60891771e+00 -1.04610909e+00 -3.19001566e-01\n",
            "   1.47790748e+00 -8.29979410e-01 -6.94988026e-01  3.35654358e+00\n",
            "   1.17848036e+00]\n",
            " [-2.68120623e-01  7.22504380e-01 -9.71890936e-01 -1.40496418e-01\n",
            "  -8.13171528e-01  2.60891771e+00  8.43132697e-01  2.63796881e-01\n",
            "   1.47790748e+00 -1.20178014e-02 -6.94988026e-01 -6.89700735e-01\n",
            "  -3.88410390e+00]\n",
            " [-2.68120623e-01  7.22504380e-01  8.09909113e-03 -1.40496418e-01\n",
            "  -7.94191252e-01  2.60891771e+00  8.43132697e-01  1.51905508e+00\n",
            "  -6.76632341e-01 -9.20864033e-01  9.53905134e-01 -6.89700735e-01\n",
            "  -5.09047728e-01]\n",
            " [ 3.85085995e-01 -1.38407465e+00 -9.71890936e-01  2.36038903e+00\n",
            "  -4.14585716e-01  2.60891771e+00 -1.04610909e+00 -1.84509616e-01\n",
            "   1.47790748e+00  1.62390542e+00 -6.94988026e-01  1.33342142e+00\n",
            "  -2.19657581e+00]\n",
            " [ 5.84826861e-02  7.22504380e-01 -9.71890936e-01  1.76494012e+00\n",
            "   8.00152000e-01 -3.83300706e-01 -1.04610909e+00 -2.29340266e-01\n",
            "   1.47790748e+00 -1.93787048e-01 -6.94988026e-01  3.21860343e-01\n",
            "   1.17848036e+00]\n",
            " [-7.03591701e-01  7.22504380e-01 -9.71890936e-01 -2.14066346e-02\n",
            "   1.73802865e-01  2.60891771e+00 -1.04610909e+00 -5.18701733e-03\n",
            "   1.47790748e+00 -9.20864033e-01  9.53905134e-01  1.33342142e+00\n",
            "   1.17848036e+00]\n",
            " [-1.03019501e+00  7.22504380e-01 -9.71890936e-01  6.93132066e-01\n",
            "   1.17975754e+00 -3.83300706e-01 -1.04610909e+00 -1.39678967e-01\n",
            "   1.47790748e+00 -9.20864033e-01 -6.94988026e-01  2.34498250e+00\n",
            "   1.17848036e+00]\n",
            " [-1.46566609e+00  7.22504380e-01  8.09909113e-03  2.76317824e-01\n",
            "  -8.32151805e-01 -3.83300706e-01  8.43132697e-01 -8.12138713e-01\n",
            "  -6.76632341e-01 -9.20864033e-01 -6.94988026e-01 -6.89700735e-01\n",
            "  -2.19657581e+00]\n",
            " [ 6.02821534e-01 -1.38407465e+00  9.88089118e-01 -1.68866360e+00\n",
            "   1.35058003e+00 -3.83300706e-01  8.43132697e-01  4.43119480e-01\n",
            "  -6.76632341e-01 -9.20864033e-01  9.53905134e-01  3.21860343e-01\n",
            "  -5.09047728e-01]\n",
            " [ 3.85085995e-01  7.22504380e-01 -9.71890936e-01 -3.19131093e-01\n",
            "   1.00893504e+00 -3.83300706e-01 -1.04610909e+00  9.36256628e-01\n",
            "  -6.76632341e-01 -9.20864033e-01  9.53905134e-01  1.33342142e+00\n",
            "   1.17848036e+00]\n",
            " [ 8.20557073e-01 -1.38407465e+00 -9.71890936e-01  1.76494012e+00\n",
            "  -1.57238260e+00 -3.83300706e-01 -1.04610909e+00 -2.29340266e-01\n",
            "  -6.76632341e-01  4.71398260e+00 -2.34388119e+00  2.34498250e+00\n",
            "   1.17848036e+00]\n",
            " [ 1.58263146e+00  7.22504380e-01  9.88089118e-01  5.74042282e-01\n",
            "   1.35842312e-01 -3.83300706e-01 -1.04610909e+00 -1.84509616e-01\n",
            "  -6.76632341e-01  8.96828430e-01 -6.94988026e-01  2.34498250e+00\n",
            "   1.17848036e+00]\n",
            " [-4.85856162e-01  7.22504380e-01  9.88089118e-01 -8.09515263e-02\n",
            "  -9.65013743e-01 -3.83300706e-01  8.43132697e-01  5.77611430e-01\n",
            "  -6.76632341e-01 -9.20864033e-01  9.53905134e-01 -6.89700735e-01\n",
            "  -5.09047728e-01]\n",
            " [ 1.47376369e+00  7.22504380e-01 -9.71890936e-01  8.12221849e-01\n",
            "  -1.02195457e+00  2.60891771e+00  8.43132697e-01 -4.08662865e-01\n",
            "  -6.76632341e-01  2.16921315e+00 -6.94988026e-01  1.33342142e+00\n",
            "   1.17848036e+00]\n",
            " [ 6.02821534e-01  7.22504380e-01 -9.71890936e-01  8.71766741e-01\n",
            "   6.67290062e-01 -3.83300706e-01 -1.04610909e+00 -3.63832216e-01\n",
            "   1.47790748e+00  1.62390542e+00 -6.94988026e-01  1.33342142e+00\n",
            "   1.17848036e+00]\n",
            " [-4.85856162e-01  7.22504380e-01 -9.71890936e-01  1.16949120e+00\n",
            "  -7.29407332e-02 -3.83300706e-01 -1.04610909e+00 -9.91461312e-01\n",
            "  -6.76632341e-01  1.44213617e+00 -6.94988026e-01 -6.89700735e-01\n",
            "   1.17848036e+00]]\n"
          ]
        }
      ]
    },
    {
      "cell_type": "markdown",
      "source": [
        "# Classification - model used- K-Nearest Neighbours"
      ],
      "metadata": {
        "id": "kRXMMhzywbEc"
      }
    },
    {
      "cell_type": "markdown",
      "source": [
        "## K-Nearest Neighbours\n",
        "\n"
      ],
      "metadata": {
        "id": "QdaGsW1Okq9r"
      }
    },
    {
      "cell_type": "code",
      "source": [
        "from sklearn.neighbors import KNeighborsClassifier\n",
        "classifier = KNeighborsClassifier(n_neighbors = 5, metric = 'minkowski', p = 2)\n",
        "classifier.fit(X_train, y_train)"
      ],
      "metadata": {
        "colab": {
          "base_uri": "https://localhost:8080/",
          "height": 74
        },
        "id": "ARcK2-4nkqZa",
        "outputId": "eb82a350-5795-46c6-ae02-ef01195d8acc"
      },
      "execution_count": 202,
      "outputs": [
        {
          "output_type": "execute_result",
          "data": {
            "text/plain": [
              "KNeighborsClassifier()"
            ],
            "text/html": [
              "<style>#sk-container-id-22 {color: black;background-color: white;}#sk-container-id-22 pre{padding: 0;}#sk-container-id-22 div.sk-toggleable {background-color: white;}#sk-container-id-22 label.sk-toggleable__label {cursor: pointer;display: block;width: 100%;margin-bottom: 0;padding: 0.3em;box-sizing: border-box;text-align: center;}#sk-container-id-22 label.sk-toggleable__label-arrow:before {content: \"▸\";float: left;margin-right: 0.25em;color: #696969;}#sk-container-id-22 label.sk-toggleable__label-arrow:hover:before {color: black;}#sk-container-id-22 div.sk-estimator:hover label.sk-toggleable__label-arrow:before {color: black;}#sk-container-id-22 div.sk-toggleable__content {max-height: 0;max-width: 0;overflow: hidden;text-align: left;background-color: #f0f8ff;}#sk-container-id-22 div.sk-toggleable__content pre {margin: 0.2em;color: black;border-radius: 0.25em;background-color: #f0f8ff;}#sk-container-id-22 input.sk-toggleable__control:checked~div.sk-toggleable__content {max-height: 200px;max-width: 100%;overflow: auto;}#sk-container-id-22 input.sk-toggleable__control:checked~label.sk-toggleable__label-arrow:before {content: \"▾\";}#sk-container-id-22 div.sk-estimator input.sk-toggleable__control:checked~label.sk-toggleable__label {background-color: #d4ebff;}#sk-container-id-22 div.sk-label input.sk-toggleable__control:checked~label.sk-toggleable__label {background-color: #d4ebff;}#sk-container-id-22 input.sk-hidden--visually {border: 0;clip: rect(1px 1px 1px 1px);clip: rect(1px, 1px, 1px, 1px);height: 1px;margin: -1px;overflow: hidden;padding: 0;position: absolute;width: 1px;}#sk-container-id-22 div.sk-estimator {font-family: monospace;background-color: #f0f8ff;border: 1px dotted black;border-radius: 0.25em;box-sizing: border-box;margin-bottom: 0.5em;}#sk-container-id-22 div.sk-estimator:hover {background-color: #d4ebff;}#sk-container-id-22 div.sk-parallel-item::after {content: \"\";width: 100%;border-bottom: 1px solid gray;flex-grow: 1;}#sk-container-id-22 div.sk-label:hover label.sk-toggleable__label {background-color: #d4ebff;}#sk-container-id-22 div.sk-serial::before {content: \"\";position: absolute;border-left: 1px solid gray;box-sizing: border-box;top: 0;bottom: 0;left: 50%;z-index: 0;}#sk-container-id-22 div.sk-serial {display: flex;flex-direction: column;align-items: center;background-color: white;padding-right: 0.2em;padding-left: 0.2em;position: relative;}#sk-container-id-22 div.sk-item {position: relative;z-index: 1;}#sk-container-id-22 div.sk-parallel {display: flex;align-items: stretch;justify-content: center;background-color: white;position: relative;}#sk-container-id-22 div.sk-item::before, #sk-container-id-22 div.sk-parallel-item::before {content: \"\";position: absolute;border-left: 1px solid gray;box-sizing: border-box;top: 0;bottom: 0;left: 50%;z-index: -1;}#sk-container-id-22 div.sk-parallel-item {display: flex;flex-direction: column;z-index: 1;position: relative;background-color: white;}#sk-container-id-22 div.sk-parallel-item:first-child::after {align-self: flex-end;width: 50%;}#sk-container-id-22 div.sk-parallel-item:last-child::after {align-self: flex-start;width: 50%;}#sk-container-id-22 div.sk-parallel-item:only-child::after {width: 0;}#sk-container-id-22 div.sk-dashed-wrapped {border: 1px dashed gray;margin: 0 0.4em 0.5em 0.4em;box-sizing: border-box;padding-bottom: 0.4em;background-color: white;}#sk-container-id-22 div.sk-label label {font-family: monospace;font-weight: bold;display: inline-block;line-height: 1.2em;}#sk-container-id-22 div.sk-label-container {text-align: center;}#sk-container-id-22 div.sk-container {/* jupyter's `normalize.less` sets `[hidden] { display: none; }` but bootstrap.min.css set `[hidden] { display: none !important; }` so we also need the `!important` here to be able to override the default hidden behavior on the sphinx rendered scikit-learn.org. See: https://github.com/scikit-learn/scikit-learn/issues/21755 */display: inline-block !important;position: relative;}#sk-container-id-22 div.sk-text-repr-fallback {display: none;}</style><div id=\"sk-container-id-22\" class=\"sk-top-container\"><div class=\"sk-text-repr-fallback\"><pre>KNeighborsClassifier()</pre><b>In a Jupyter environment, please rerun this cell to show the HTML representation or trust the notebook. <br />On GitHub, the HTML representation is unable to render, please try loading this page with nbviewer.org.</b></div><div class=\"sk-container\" hidden><div class=\"sk-item\"><div class=\"sk-estimator sk-toggleable\"><input class=\"sk-toggleable__control sk-hidden--visually\" id=\"sk-estimator-id-22\" type=\"checkbox\" checked><label for=\"sk-estimator-id-22\" class=\"sk-toggleable__label sk-toggleable__label-arrow\">KNeighborsClassifier</label><div class=\"sk-toggleable__content\"><pre>KNeighborsClassifier()</pre></div></div></div></div></div>"
            ]
          },
          "metadata": {},
          "execution_count": 202
        }
      ]
    },
    {
      "cell_type": "code",
      "source": [
        "y_pred = classifier.predict(X_test)\n",
        "print(np.concatenate((y_pred.reshape(len(y_pred),1), y_test.reshape(len(y_test),1)),1)) #displalys the predicted values against the test values"
      ],
      "metadata": {
        "colab": {
          "base_uri": "https://localhost:8080/"
        },
        "id": "ubO2ydSNk51c",
        "outputId": "3246a333-aaa3-408b-9cc0-aa8c0d78a7a4"
      },
      "execution_count": 203,
      "outputs": [
        {
          "output_type": "stream",
          "name": "stdout",
          "text": [
            "[[0 0]\n",
            " [0 0]\n",
            " [1 1]\n",
            " [0 0]\n",
            " [1 1]\n",
            " [1 1]\n",
            " [1 1]\n",
            " [0 0]\n",
            " [0 0]\n",
            " [1 1]\n",
            " [1 1]\n",
            " [0 1]\n",
            " [1 1]\n",
            " [0 0]\n",
            " [1 1]\n",
            " [1 1]\n",
            " [1 1]\n",
            " [0 0]\n",
            " [0 0]\n",
            " [0 0]\n",
            " [0 1]\n",
            " [0 0]\n",
            " [0 0]\n",
            " [1 1]\n",
            " [1 1]\n",
            " [1 0]\n",
            " [1 0]\n",
            " [1 1]\n",
            " [0 0]\n",
            " [1 1]\n",
            " [0 1]\n",
            " [0 0]\n",
            " [0 0]\n",
            " [0 1]\n",
            " [1 1]\n",
            " [0 0]\n",
            " [1 1]\n",
            " [1 1]\n",
            " [1 1]\n",
            " [1 1]\n",
            " [1 1]\n",
            " [1 1]\n",
            " [1 1]\n",
            " [1 1]\n",
            " [1 1]\n",
            " [0 0]\n",
            " [0 0]\n",
            " [1 1]\n",
            " [0 0]\n",
            " [0 0]\n",
            " [0 0]\n",
            " [0 0]\n",
            " [1 1]\n",
            " [1 1]\n",
            " [0 0]\n",
            " [0 0]\n",
            " [0 0]\n",
            " [1 1]\n",
            " [0 0]\n",
            " [0 0]\n",
            " [0 0]]\n"
          ]
        }
      ]
    },
    {
      "cell_type": "markdown",
      "source": [
        "## Confusion Matrix and accuracy"
      ],
      "metadata": {
        "id": "p9CTltm2lBpE"
      }
    },
    {
      "cell_type": "code",
      "source": [
        "from sklearn.metrics import confusion_matrix, accuracy_score\n",
        "cm = confusion_matrix(y_test, y_pred)\n",
        "print(cm)\n",
        "accuracy_score(y_test, y_pred)"
      ],
      "metadata": {
        "colab": {
          "base_uri": "https://localhost:8080/"
        },
        "id": "qPAjc8sxlEEU",
        "outputId": "3b5f45a8-02c0-4c7f-bf2d-3d04b81a1783"
      },
      "execution_count": 204,
      "outputs": [
        {
          "output_type": "stream",
          "name": "stdout",
          "text": [
            "[[27  2]\n",
            " [ 4 28]]\n"
          ]
        },
        {
          "output_type": "execute_result",
          "data": {
            "text/plain": [
              "0.9016393442622951"
            ]
          },
          "metadata": {},
          "execution_count": 204
        }
      ]
    },
    {
      "cell_type": "markdown",
      "source": [
        "## Predicting a New result"
      ],
      "metadata": {
        "id": "4BZoM19FvCE8"
      }
    },
    {
      "cell_type": "code",
      "source": [
        "print(classifier.predict(sc.transform([[43,\t0,\t0,\t132,\t341,\t1,\t0,\t136,\t1,\t3,\t1,\t0,\t3]])))"
      ],
      "metadata": {
        "colab": {
          "base_uri": "https://localhost:8080/"
        },
        "id": "MOvc-i1nu8zO",
        "outputId": "90f9acac-4575-4c09-e2fb-ac18a397380b"
      },
      "execution_count": 205,
      "outputs": [
        {
          "output_type": "stream",
          "name": "stdout",
          "text": [
            "[0]\n"
          ]
        }
      ]
    }
  ]
}